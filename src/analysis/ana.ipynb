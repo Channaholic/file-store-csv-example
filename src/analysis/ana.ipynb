{
 "cells": [
  {
   "cell_type": "code",
   "execution_count": 2,
   "id": "8a0a7604",
   "metadata": {},
   "outputs": [],
   "source": [
    "import pandas as pd"
   ]
  },
  {
   "cell_type": "code",
   "execution_count": 6,
   "id": "bc0c84f6",
   "metadata": {},
   "outputs": [],
   "source": [
    "data = pd.read_csv('../../data/sentient_agents_lp_addresses.csv')"
   ]
  },
  {
   "cell_type": "code",
   "execution_count": 9,
   "id": "d309f4c6",
   "metadata": {},
   "outputs": [
    {
     "data": {
      "text/plain": [
       "753"
      ]
     },
     "execution_count": 9,
     "metadata": {},
     "output_type": "execute_result"
    }
   ],
   "source": [
    "data.lpAddress.nunique()"
   ]
  },
  {
   "cell_type": "code",
   "execution_count": 10,
   "id": "c98c998d",
   "metadata": {},
   "outputs": [],
   "source": [
    "data = pd.read_csv('../../data/sentient_agents_lp_addresses.csv')\n",
    "(data['lpAddress']\n",
    " .str.lower()\n",
    " .dropna()\n",
    " .drop_duplicates()\n",
    " .to_csv('../../data/virtual_pairs.txt', index=False, header=False))"
   ]
  },
  {
   "cell_type": "code",
   "execution_count": null,
   "id": "0c8075ad",
   "metadata": {},
   "outputs": [],
   "source": []
  }
 ],
 "metadata": {
  "kernelspec": {
   "display_name": "ml-fin-data",
   "language": "python",
   "name": "python3"
  },
  "language_info": {
   "codemirror_mode": {
    "name": "ipython",
    "version": 3
   },
   "file_extension": ".py",
   "mimetype": "text/x-python",
   "name": "python",
   "nbconvert_exporter": "python",
   "pygments_lexer": "ipython3",
   "version": "3.10.8"
  }
 },
 "nbformat": 4,
 "nbformat_minor": 5
}
